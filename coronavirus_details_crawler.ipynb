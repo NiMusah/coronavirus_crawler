{
 "cells": [
  {
   "cell_type": "code",
   "execution_count": 1,
   "metadata": {},
   "outputs": [
    {
     "data": {
      "text/plain": [
       "<Response [200]>"
      ]
     },
     "execution_count": 1,
     "metadata": {},
     "output_type": "execute_result"
    }
   ],
   "source": [
    "#import the requests library and download the webpage of interest\n",
    "\n",
    "import requests\n",
    "page=requests.get(\"https://www.worldometers.info/coronavirus/#countries\")\n",
    "page"
   ]
  },
  {
   "cell_type": "code",
   "execution_count": 4,
   "metadata": {},
   "outputs": [],
   "source": [
    "#import the BeautifulSoup library to parse the conetnts of downloaded page\n",
    "\n",
    "from bs4 import BeautifulSoup\n",
    "soup=BeautifulSoup(page.content, 'html.parser')\n",
    "\n",
    "#find tag of interest using id/css selectors \n",
    "corvid_details= soup.find(id='main_table_countries_today')\n",
    "actuals=corvid_details.find('tbody')"
   ]
  },
  {
   "cell_type": "code",
   "execution_count": 6,
   "metadata": {},
   "outputs": [],
   "source": [
    "#create empty lists which will be used to append the row(tr) and cell details(td) from the downloaded page\n",
    "\n",
    "A=[]\n",
    "B=[]\n",
    "C=[]\n",
    "D=[]\n",
    "E=[]\n",
    "F=[]\n",
    "G=[]\n",
    "H=[]\n",
    "I=[]\n",
    "\n",
    "for row in actuals.find_all(\"tr\"):\n",
    "    cells=row.find_all('td')\n",
    "    if len(cells)==9:\n",
    "        A.append(cells[0].find(text=True))  \n",
    "        B.append(cells[1].find(text=True))\n",
    "        C.append(cells[2].find(text=True))\n",
    "        D.append(cells[3].find(text=True))\n",
    "        E.append(cells[4].find(text=True))\n",
    "        F.append(cells[5].find(text=True))\n",
    "        G.append(cells[6].find(text=True)) \n",
    "        H.append(cells[7].find(text=True))\n",
    "        I.append(cells[8].find(text=True))"
   ]
  },
  {
   "cell_type": "code",
   "execution_count": 7,
   "metadata": {},
   "outputs": [],
   "source": [
    "#combine the data into a pandas dataframe\n",
    "\n",
    "import pandas as pd\n",
    "cases=pd.DataFrame(A, columns=['Country, Other'])\n",
    "cases['Total Cases']=B\n",
    "cases['New Cases']=C\n",
    "cases['Total Deaths']=D\n",
    "cases['New Deaths']=E\n",
    "cases['Total Recovered']=F\n",
    "cases['Active Cases']=G\n",
    "cases['Serious/Critical']=H\n",
    "cases['Tot Cases/1M pop']=I"
   ]
  },
  {
   "cell_type": "code",
   "execution_count": 11,
   "metadata": {},
   "outputs": [],
   "source": [
    "#write to excel\n",
    "cases.to_excel('corona_outbreak_cases.xlsx')"
   ]
  }
 ],
 "metadata": {
  "kernelspec": {
   "display_name": "Python 3",
   "language": "python",
   "name": "python3"
  },
  "language_info": {
   "codemirror_mode": {
    "name": "ipython",
    "version": 3
   },
   "file_extension": ".py",
   "mimetype": "text/x-python",
   "name": "python",
   "nbconvert_exporter": "python",
   "pygments_lexer": "ipython3",
   "version": "3.8.0"
  }
 },
 "nbformat": 4,
 "nbformat_minor": 2
}
