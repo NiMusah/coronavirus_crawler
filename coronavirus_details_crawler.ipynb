{
 "cells": [
  {
   "cell_type": "code",
   "execution_count": 1,
   "metadata": {},
   "outputs": [
    {
     "data": {
      "text/plain": [
       "<Response [200]>"
      ]
     },
     "execution_count": 1,
     "metadata": {},
     "output_type": "execute_result"
    }
   ],
   "source": [
    "#import the requests library and download the webpage of interest\n",
    "\n",
    "import requests\n",
    "page=requests.get(\"https://www.worldometers.info/coronavirus/#countries\")\n",
    "page"
   ]
  },
  {
   "cell_type": "code",
   "execution_count": 2,
   "metadata": {},
   "outputs": [],
   "source": [
    "#import the BeautifulSoup library to parse the conetnts of downloaded page\n",
    "\n",
    "from bs4 import BeautifulSoup\n",
    "soup=BeautifulSoup(page.content, 'html.parser')\n",
    "\n",
    "#find tag of interest using id/css selectors \n",
    "corvid_details= soup.find(id='main_table_countries_today')\n",
    "actuals=corvid_details.find('tbody')"
   ]
  },
  {
   "cell_type": "code",
   "execution_count": 6,
   "metadata": {},
   "outputs": [],
   "source": [
    "#create empty lists which will be used to append the row(tr) and cell details(td) from the downloaded page\n",
    "\n",
    "A=[]\n",
    "B=[]\n",
    "C=[]\n",
    "D=[]\n",
    "E=[]\n",
    "F=[]\n",
    "G=[]\n",
    "H=[]\n",
    "I=[]\n",
    "J=[]\n",
    "\n",
    "for row in actuals.find_all(\"tr\"):\n",
    "    cells=row.find_all('td')\n",
    "    if len(cells)==10:\n",
    "        A.append(cells[0].find(text=True))  \n",
    "        B.append(cells[1].find(text=True))\n",
    "        C.append(cells[2].find(text=True))\n",
    "        D.append(cells[3].find(text=True))\n",
    "        E.append(cells[4].find(text=True))\n",
    "        F.append(cells[5].find(text=True))\n",
    "        G.append(cells[6].find(text=True)) \n",
    "        H.append(cells[7].find(text=True))\n",
    "        I.append(cells[8].find(text=True))\n",
    "        J.append(cells[9].find(text=True))"
   ]
  },
  {
   "cell_type": "code",
   "execution_count": 7,
   "metadata": {},
   "outputs": [],
   "source": [
    "#combine the data into a pandas dataframe\n",
    "\n",
    "import pandas as pd\n",
    "cases=pd.DataFrame(A, columns=['Country, Other'])\n",
    "cases['Total Cases']=B\n",
    "cases['New Cases']=C\n",
    "cases['Total Deaths']=D\n",
    "cases['New Deaths']=E\n",
    "cases['Total Recovered']=F\n",
    "cases['Active Cases']=G\n",
    "cases['Serious/Critical']=H\n",
    "cases['Tot Cases/1M pop']=I\n",
    "cases['Tot Deaths/1M pop']=J"
   ]
  },
  {
   "cell_type": "code",
   "execution_count": 8,
   "metadata": {},
   "outputs": [
    {
     "data": {
      "text/html": [
       "<div>\n",
       "<style scoped>\n",
       "    .dataframe tbody tr th:only-of-type {\n",
       "        vertical-align: middle;\n",
       "    }\n",
       "\n",
       "    .dataframe tbody tr th {\n",
       "        vertical-align: top;\n",
       "    }\n",
       "\n",
       "    .dataframe thead th {\n",
       "        text-align: right;\n",
       "    }\n",
       "</style>\n",
       "<table border=\"1\" class=\"dataframe\">\n",
       "  <thead>\n",
       "    <tr style=\"text-align: right;\">\n",
       "      <th></th>\n",
       "      <th>Country, Other</th>\n",
       "      <th>Total Cases</th>\n",
       "      <th>New Cases</th>\n",
       "      <th>Total Deaths</th>\n",
       "      <th>New Deaths</th>\n",
       "      <th>Total Recovered</th>\n",
       "      <th>Active Cases</th>\n",
       "      <th>Serious/Critical</th>\n",
       "      <th>Tot Cases/1M pop</th>\n",
       "      <th>Tot Deaths/1M pop</th>\n",
       "    </tr>\n",
       "  </thead>\n",
       "  <tbody>\n",
       "    <tr>\n",
       "      <th>0</th>\n",
       "      <td>USA</td>\n",
       "      <td>215,344</td>\n",
       "      <td>+341</td>\n",
       "      <td>5,112</td>\n",
       "      <td>+10</td>\n",
       "      <td>8,878</td>\n",
       "      <td>201,354</td>\n",
       "      <td>5,005</td>\n",
       "      <td>651</td>\n",
       "      <td>15</td>\n",
       "    </tr>\n",
       "    <tr>\n",
       "      <th>1</th>\n",
       "      <td>Italy</td>\n",
       "      <td>110,574</td>\n",
       "      <td>None</td>\n",
       "      <td>13,155</td>\n",
       "      <td>None</td>\n",
       "      <td>16,847</td>\n",
       "      <td>80,572</td>\n",
       "      <td>4,035</td>\n",
       "      <td>1,829</td>\n",
       "      <td>218</td>\n",
       "    </tr>\n",
       "    <tr>\n",
       "      <th>2</th>\n",
       "      <td>Spain</td>\n",
       "      <td>104,118</td>\n",
       "      <td>None</td>\n",
       "      <td>9,387</td>\n",
       "      <td>None</td>\n",
       "      <td>22,647</td>\n",
       "      <td>72,084</td>\n",
       "      <td>5,872</td>\n",
       "      <td>2,227</td>\n",
       "      <td>201</td>\n",
       "    </tr>\n",
       "    <tr>\n",
       "      <th>3</th>\n",
       "      <td>Germany</td>\n",
       "      <td>77,981</td>\n",
       "      <td>None</td>\n",
       "      <td>931</td>\n",
       "      <td>None</td>\n",
       "      <td>19,175</td>\n",
       "      <td>57,875</td>\n",
       "      <td>3,408</td>\n",
       "      <td>931</td>\n",
       "      <td>11</td>\n",
       "    </tr>\n",
       "    <tr>\n",
       "      <th>4</th>\n",
       "      <td>France</td>\n",
       "      <td>56,989</td>\n",
       "      <td>None</td>\n",
       "      <td>4,032</td>\n",
       "      <td>None</td>\n",
       "      <td>10,935</td>\n",
       "      <td>42,022</td>\n",
       "      <td>6,017</td>\n",
       "      <td>873</td>\n",
       "      <td>62</td>\n",
       "    </tr>\n",
       "  </tbody>\n",
       "</table>\n",
       "</div>"
      ],
      "text/plain": [
       "  Country, Other Total Cases New Cases Total Deaths New Deaths  \\\n",
       "0            USA     215,344      +341       5,112         +10   \n",
       "1          Italy     110,574      None      13,155        None   \n",
       "2          Spain     104,118      None       9,387        None   \n",
       "3        Germany      77,981      None         931        None   \n",
       "4         France      56,989      None       4,032        None   \n",
       "\n",
       "  Total Recovered Active Cases Serious/Critical Tot Cases/1M pop  \\\n",
       "0           8,878      201,354            5,005              651   \n",
       "1          16,847       80,572            4,035            1,829   \n",
       "2          22,647       72,084            5,872            2,227   \n",
       "3          19,175       57,875            3,408              931   \n",
       "4          10,935       42,022            6,017              873   \n",
       "\n",
       "  Tot Deaths/1M pop  \n",
       "0                15  \n",
       "1               218  \n",
       "2               201  \n",
       "3                11  \n",
       "4                62  "
      ]
     },
     "execution_count": 8,
     "metadata": {},
     "output_type": "execute_result"
    }
   ],
   "source": [
    "cases.head()"
   ]
  },
  {
   "cell_type": "code",
   "execution_count": 10,
   "metadata": {},
   "outputs": [],
   "source": [
    "#write to excel\n",
    "cases.to_excel('corona_outbreak_cases.xlsx')"
   ]
  }
 ],
 "metadata": {
  "kernelspec": {
   "display_name": "Python 3",
   "language": "python",
   "name": "python3"
  },
  "language_info": {
   "codemirror_mode": {
    "name": "ipython",
    "version": 3
   },
   "file_extension": ".py",
   "mimetype": "text/x-python",
   "name": "python",
   "nbconvert_exporter": "python",
   "pygments_lexer": "ipython3",
   "version": "3.8.0"
  }
 },
 "nbformat": 4,
 "nbformat_minor": 2
}
