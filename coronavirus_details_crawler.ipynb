{
 "cells": [
  {
   "cell_type": "code",
   "execution_count": 1,
   "metadata": {},
   "outputs": [
    {
     "data": {
      "text/plain": [
       "<Response [200]>"
      ]
     },
     "execution_count": 1,
     "metadata": {},
     "output_type": "execute_result"
    }
   ],
   "source": [
    "#import the requests library and download the webpage of interest\n",
    "\n",
    "import requests\n",
    "page=requests.get(\"https://www.worldometers.info/coronavirus/#countries\")\n",
    "page"
   ]
  },
  {
   "cell_type": "code",
   "execution_count": 2,
   "metadata": {},
   "outputs": [],
   "source": [
    "#import the BeautifulSoup library to parse the conetnts of downloaded page\n",
    "\n",
    "from bs4 import BeautifulSoup\n",
    "soup=BeautifulSoup(page.content, 'html.parser')\n",
    "\n",
    "#find tag of interest using id/css selectors \n",
    "corvid_details= soup.find(id='main_table_countries_today')\n",
    "actuals=corvid_details.find('tbody')"
   ]
  },
  {
   "cell_type": "code",
   "execution_count": 7,
   "metadata": {},
   "outputs": [],
   "source": [
    "#create empty lists which will be used to append the row(tr) and cell details(td) from the downloaded page\n",
    "\n",
    "A=[]\n",
    "B=[]\n",
    "C=[]\n",
    "D=[]\n",
    "E=[]\n",
    "F=[]\n",
    "G=[]\n",
    "H=[]\n",
    "I=[]\n",
    "J=[]\n",
    "\n",
    "for row in actuals.find_all(\"tr\"):\n",
    "    cells=row.find_all('td')\n",
    "    if len(cells)==10:\n",
    "        A.append(cells[0].find(text=True))  \n",
    "        B.append(cells[1].find(text=True))\n",
    "        C.append(cells[2].find(text=True))\n",
    "        D.append(cells[3].find(text=True))\n",
    "        E.append(cells[4].find(text=True))\n",
    "        F.append(cells[5].find(text=True))\n",
    "        G.append(cells[6].find(text=True)) \n",
    "        H.append(cells[7].find(text=True))\n",
    "        I.append(cells[8].find(text=True))\n",
    "        J.append(cells[8].find(text=True))"
   ]
  },
  {
   "cell_type": "code",
   "execution_count": 8,
   "metadata": {},
   "outputs": [],
   "source": [
    "#combine the data into a pandas dataframe\n",
    "\n",
    "import pandas as pd\n",
    "cases=pd.DataFrame(A, columns=['Country, Other'])\n",
    "cases['Total Cases']=B\n",
    "cases['New Cases']=C\n",
    "cases['Total Deaths']=D\n",
    "cases['New Deaths']=E\n",
    "cases['Total Recovered']=F\n",
    "cases['Active Cases']=G\n",
    "cases['Serious/Critical']=H\n",
    "cases['Tot Cases/1M pop']=I\n",
    "cases['Tot Deaths/1M pop']=J"
   ]
  },
  {
   "cell_type": "code",
   "execution_count": 11,
   "metadata": {},
   "outputs": [
    {
     "data": {
      "text/html": [
       "<div>\n",
       "<style scoped>\n",
       "    .dataframe tbody tr th:only-of-type {\n",
       "        vertical-align: middle;\n",
       "    }\n",
       "\n",
       "    .dataframe tbody tr th {\n",
       "        vertical-align: top;\n",
       "    }\n",
       "\n",
       "    .dataframe thead th {\n",
       "        text-align: right;\n",
       "    }\n",
       "</style>\n",
       "<table border=\"1\" class=\"dataframe\">\n",
       "  <thead>\n",
       "    <tr style=\"text-align: right;\">\n",
       "      <th></th>\n",
       "      <th>Country, Other</th>\n",
       "      <th>Total Cases</th>\n",
       "      <th>New Cases</th>\n",
       "      <th>Total Deaths</th>\n",
       "      <th>New Deaths</th>\n",
       "      <th>Total Recovered</th>\n",
       "      <th>Active Cases</th>\n",
       "      <th>Serious/Critical</th>\n",
       "      <th>Tot Cases/1M pop</th>\n",
       "      <th>Tot Deaths/1M pop</th>\n",
       "    </tr>\n",
       "  </thead>\n",
       "  <tbody>\n",
       "    <tr>\n",
       "      <th>0</th>\n",
       "      <td>China</td>\n",
       "      <td>81,218</td>\n",
       "      <td>+47</td>\n",
       "      <td>3,281</td>\n",
       "      <td>+4</td>\n",
       "      <td>73,650</td>\n",
       "      <td>4,287</td>\n",
       "      <td>1,399</td>\n",
       "      <td>56</td>\n",
       "      <td>56</td>\n",
       "    </tr>\n",
       "    <tr>\n",
       "      <th>1</th>\n",
       "      <td>Italy</td>\n",
       "      <td>69,176</td>\n",
       "      <td>None</td>\n",
       "      <td>6,820</td>\n",
       "      <td>None</td>\n",
       "      <td>8,326</td>\n",
       "      <td>54,030</td>\n",
       "      <td>3,393</td>\n",
       "      <td>1,144</td>\n",
       "      <td>1,144</td>\n",
       "    </tr>\n",
       "    <tr>\n",
       "      <th>2</th>\n",
       "      <td>USA</td>\n",
       "      <td>54,916</td>\n",
       "      <td>+35</td>\n",
       "      <td>784</td>\n",
       "      <td>+4</td>\n",
       "      <td>379</td>\n",
       "      <td>53,753</td>\n",
       "      <td>1,175</td>\n",
       "      <td>166</td>\n",
       "      <td>166</td>\n",
       "    </tr>\n",
       "    <tr>\n",
       "      <th>3</th>\n",
       "      <td>Spain</td>\n",
       "      <td>42,058</td>\n",
       "      <td>None</td>\n",
       "      <td>2,991</td>\n",
       "      <td>None</td>\n",
       "      <td>3,794</td>\n",
       "      <td>35,273</td>\n",
       "      <td>2,636</td>\n",
       "      <td>900</td>\n",
       "      <td>900</td>\n",
       "    </tr>\n",
       "    <tr>\n",
       "      <th>4</th>\n",
       "      <td>Germany</td>\n",
       "      <td>32,991</td>\n",
       "      <td>None</td>\n",
       "      <td>159</td>\n",
       "      <td>None</td>\n",
       "      <td>3,290</td>\n",
       "      <td>29,542</td>\n",
       "      <td>23</td>\n",
       "      <td>394</td>\n",
       "      <td>394</td>\n",
       "    </tr>\n",
       "  </tbody>\n",
       "</table>\n",
       "</div>"
      ],
      "text/plain": [
       "  Country, Other Total Cases New Cases                           Total Deaths  \\\n",
       "0          China      81,218       +47  3,281                                   \n",
       "1          Italy      69,176      None  6,820                                   \n",
       "2            USA      54,916       +35    784                                   \n",
       "3          Spain      42,058      None  2,991                                   \n",
       "4        Germany      32,991      None    159                                   \n",
       "\n",
       "  New Deaths Total Recovered Active Cases Serious/Critical Tot Cases/1M pop  \\\n",
       "0         +4          73,650        4,287            1,399               56   \n",
       "1       None           8,326       54,030            3,393            1,144   \n",
       "2         +4             379       53,753            1,175              166   \n",
       "3       None           3,794       35,273            2,636              900   \n",
       "4       None           3,290       29,542               23              394   \n",
       "\n",
       "  Tot Deaths/1M pop  \n",
       "0                56  \n",
       "1             1,144  \n",
       "2               166  \n",
       "3               900  \n",
       "4               394  "
      ]
     },
     "execution_count": 11,
     "metadata": {},
     "output_type": "execute_result"
    }
   ],
   "source": [
    "cases.head()"
   ]
  },
  {
   "cell_type": "code",
   "execution_count": 10,
   "metadata": {},
   "outputs": [],
   "source": [
    "#write to excel\n",
    "cases.to_excel('corona_outbreak_cases.xlsx')"
   ]
  }
 ],
 "metadata": {
  "kernelspec": {
   "display_name": "Python 3",
   "language": "python",
   "name": "python3"
  },
  "language_info": {
   "codemirror_mode": {
    "name": "ipython",
    "version": 3
   },
   "file_extension": ".py",
   "mimetype": "text/x-python",
   "name": "python",
   "nbconvert_exporter": "python",
   "pygments_lexer": "ipython3",
   "version": "3.8.0"
  }
 },
 "nbformat": 4,
 "nbformat_minor": 2
}
